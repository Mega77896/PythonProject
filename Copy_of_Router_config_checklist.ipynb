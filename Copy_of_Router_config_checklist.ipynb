{
  "nbformat": 4,
  "nbformat_minor": 0,
  "metadata": {
    "colab": {
      "name": "Copy of Router_config_checklist.ipynb",
      "provenance": [],
      "collapsed_sections": [],
      "include_colab_link": true
    },
    "kernelspec": {
      "name": "python3",
      "display_name": "Python 3"
    },
    "language_info": {
      "name": "python"
    }
  },
  "cells": [
    {
      "cell_type": "markdown",
      "metadata": {
        "id": "view-in-github",
        "colab_type": "text"
      },
      "source": [
        "<a href=\"https://colab.research.google.com/github/Mega77896/PythonProject/blob/main/Copy_of_Router_config_checklist.ipynb\" target=\"_parent\"><img src=\"https://colab.research.google.com/assets/colab-badge.svg\" alt=\"Open In Colab\"/></a>"
      ]
    },
    {
      "cell_type": "markdown",
      "source": [
        "# Checklist for router configuration"
      ],
      "metadata": {
        "id": "5pL9DsXIlafm"
      }
    },
    {
      "cell_type": "markdown",
      "source": [
        "### Upload files for testing"
      ],
      "metadata": {
        "id": "bfjqLMmgrjnK"
      }
    },
    {
      "cell_type": "markdown",
      "source": [
        "---\n",
        "\n",
        "Show the welcome screen and get the user's choice\n",
        "\n",
        "---\n"
      ],
      "metadata": {
        "id": "wc0a78EklqQi"
      }
    },
    {
      "cell_type": "code",
      "source": [
        "from google.colab import drive\n",
        "import glob\n",
        "\n",
        "drive.mount('/content/gdrive', force_remount=True)\n",
        "\n",
        "!ls /content/gdrive/MyDrive/Checklist/Routers\n",
        "%cd /content/gdrive/MyDrive/Checklist/Routers\n",
        "\n",
        "router_config_list = glob.glob(f\"*.txt\")\n",
        "for router in router_config_list:\n",
        "  print(router)\n"
      ],
      "metadata": {
        "id": "aXYwF4qCrnwU",
        "outputId": "4517cae6-0848-4e5f-f1f5-a89da56c13f6",
        "colab": {
          "base_uri": "https://localhost:8080/",
          "height": 964
        }
      },
      "execution_count": 57,
      "outputs": [
        {
          "output_type": "stream",
          "name": "stdout",
          "text": [
            "Mounted at /content/gdrive\n",
            "shell-init: error retrieving current directory: getcwd: cannot access parent directories: Transport endpoint is not connected\n",
            "ASUS-RT-AX86U.txt  Draytek-Vigor-3910.txt\n"
          ]
        },
        {
          "output_type": "stream",
          "name": "stderr",
          "text": [
            "ERROR:root:Internal Python error in the inspect module.\n",
            "Below is the traceback from this internal error.\n",
            "\n"
          ]
        },
        {
          "output_type": "stream",
          "name": "stdout",
          "text": [
            "Traceback (most recent call last):\n",
            "  File \"/usr/local/lib/python3.7/dist-packages/IPython/core/interactiveshell.py\", line 2882, in run_code\n",
            "    exec(code_obj, self.user_global_ns, self.user_ns)\n",
            "  File \"<ipython-input-57-57f2c0b82568>\", line 7, in <module>\n",
            "    get_ipython().magic('cd /content/gdrive/MyDrive/Checklist/Routers')\n",
            "  File \"/usr/local/lib/python3.7/dist-packages/IPython/core/interactiveshell.py\", line 2160, in magic\n",
            "    return self.run_line_magic(magic_name, magic_arg_s)\n",
            "  File \"/usr/local/lib/python3.7/dist-packages/IPython/core/interactiveshell.py\", line 2081, in run_line_magic\n",
            "    result = fn(*args,**kwargs)\n",
            "  File \"<decorator-gen-84>\", line 2, in cd\n",
            "  File \"/usr/local/lib/python3.7/dist-packages/IPython/core/magic.py\", line 188, in <lambda>\n",
            "    call = lambda f, *a, **k: f(*a, **k)\n",
            "  File \"/usr/local/lib/python3.7/dist-packages/IPython/core/magics/osm.py\", line 288, in cd\n",
            "    oldcwd = py3compat.getcwd()\n",
            "OSError: [Errno 107] Transport endpoint is not connected\n",
            "\n",
            "During handling of the above exception, another exception occurred:\n",
            "\n",
            "Traceback (most recent call last):\n",
            "  File \"/usr/local/lib/python3.7/dist-packages/IPython/core/interactiveshell.py\", line 1823, in showtraceback\n",
            "    stb = value._render_traceback_()\n",
            "AttributeError: 'OSError' object has no attribute '_render_traceback_'\n",
            "\n",
            "During handling of the above exception, another exception occurred:\n",
            "\n",
            "Traceback (most recent call last):\n",
            "  File \"/usr/local/lib/python3.7/dist-packages/IPython/core/ultratb.py\", line 1132, in get_records\n",
            "    return _fixed_getinnerframes(etb, number_of_lines_of_context, tb_offset)\n",
            "  File \"/usr/local/lib/python3.7/dist-packages/IPython/core/ultratb.py\", line 313, in wrapped\n",
            "    return f(*args, **kwargs)\n",
            "  File \"/usr/local/lib/python3.7/dist-packages/IPython/core/ultratb.py\", line 358, in _fixed_getinnerframes\n",
            "    records = fix_frame_records_filenames(inspect.getinnerframes(etb, context))\n",
            "  File \"/usr/lib/python3.7/inspect.py\", line 1502, in getinnerframes\n",
            "    frameinfo = (tb.tb_frame,) + getframeinfo(tb, context)\n",
            "  File \"/usr/lib/python3.7/inspect.py\", line 1460, in getframeinfo\n",
            "    filename = getsourcefile(frame) or getfile(frame)\n",
            "  File \"/usr/lib/python3.7/inspect.py\", line 696, in getsourcefile\n",
            "    if getattr(getmodule(object, filename), '__loader__', None) is not None:\n",
            "  File \"/usr/lib/python3.7/inspect.py\", line 725, in getmodule\n",
            "    file = getabsfile(object, _filename)\n",
            "  File \"/usr/lib/python3.7/inspect.py\", line 709, in getabsfile\n",
            "    return os.path.normcase(os.path.abspath(_filename))\n",
            "  File \"/usr/lib/python3.7/posixpath.py\", line 383, in abspath\n",
            "    cwd = os.getcwd()\n",
            "OSError: [Errno 107] Transport endpoint is not connected\n"
          ]
        },
        {
          "output_type": "error",
          "ename": "OSError",
          "evalue": "ignored",
          "traceback": [
            "\u001b[0;31m---------------------------------------------------------------------------\u001b[0m"
          ]
        }
      ]
    },
    {
      "cell_type": "code",
      "source": [
        "# code to open the checklist from the pre-loaded file using variables\n",
        "def opening_checklists():\n",
        "  basic_list = ['Have you changed your routerâ€™s default SSID (name)?','Have you changed your routerâ€™s default password?','Have you enabled WPA2 authentication?','Are you broadcasting your routerâ€™s SSID?','Have you enabled WPA2 authentication on your guest network? ','Have you enabled your routerâ€™s Firewall?','Have you enabled IP/port filtering?','Have you enabled MAC address filtering? ','Have you updated your router to the latest firmware version?','Is UPnP disabled?','Is WPS Disabled? ']\n",
        "  while True:\n",
        "    item_number = 1  \n",
        "    for questions in basic_list:\n",
        "      print(item_number, questions)\n",
        "      item_number +=1\n",
        "    step_number = int(input(\"What step have you completed? \"))\n",
        "    basic_list = basic_list.pop(step_number)\n",
        "\n",
        "    continuation = input(\"Are you continuing with your configuration? (y/n) \")\n",
        "    if continuation == \"n\":\n",
        "      return basic_list\n",
        "\n",
        "opening_checklists()"
      ],
      "metadata": {
        "colab": {
          "base_uri": "https://localhost:8080/",
          "height": 1000
        },
        "id": "6cIPhrV6Zh-Q",
        "outputId": "96747393-12e1-405c-d47a-5f292a2dcaeb"
      },
      "execution_count": 60,
      "outputs": [
        {
          "name": "stdout",
          "output_type": "stream",
          "text": [
            "1 Have you changed your routerâ€™s default SSID (name)?\n",
            "2 Have you changed your routerâ€™s default password?\n",
            "3 Have you enabled WPA2 authentication?\n",
            "4 Are you broadcasting your routerâ€™s SSID?\n",
            "5 Have you enabled WPA2 authentication on your guest network? \n",
            "6 Have you enabled your routerâ€™s Firewall?\n",
            "7 Have you enabled IP/port filtering?\n",
            "8 Have you enabled MAC address filtering? \n",
            "9 Have you updated your router to the latest firmware version?\n",
            "10 Is UPnP disabled?\n",
            "11 Is WPS Disabled? \n",
            "What step have you completed? 4\n",
            "Are you continuing with your configuration? (y/n) y\n",
            "1 H\n",
            "2 a\n",
            "3 v\n",
            "4 e\n",
            "5  \n",
            "6 y\n",
            "7 o\n",
            "8 u\n",
            "9  \n",
            "10 e\n",
            "11 n\n",
            "12 a\n",
            "13 b\n",
            "14 l\n",
            "15 e\n",
            "16 d\n",
            "17  \n",
            "18 W\n",
            "19 P\n",
            "20 A\n",
            "21 2\n",
            "22  \n",
            "23 a\n",
            "24 u\n",
            "25 t\n",
            "26 h\n",
            "27 e\n",
            "28 n\n",
            "29 t\n",
            "30 i\n",
            "31 c\n",
            "32 a\n",
            "33 t\n",
            "34 i\n",
            "35 o\n",
            "36 n\n",
            "37  \n",
            "38 o\n",
            "39 n\n",
            "40  \n",
            "41 y\n",
            "42 o\n",
            "43 u\n",
            "44 r\n",
            "45  \n",
            "46 g\n",
            "47 u\n",
            "48 e\n",
            "49 s\n",
            "50 t\n",
            "51  \n",
            "52 n\n",
            "53 e\n",
            "54 t\n",
            "55 w\n",
            "56 o\n",
            "57 r\n",
            "58 k\n",
            "59 ?\n",
            "60  \n",
            "What step have you completed? 2\n"
          ]
        },
        {
          "output_type": "stream",
          "name": "stderr",
          "text": [
            "ERROR:root:Internal Python error in the inspect module.\n",
            "Below is the traceback from this internal error.\n",
            "\n"
          ]
        },
        {
          "output_type": "stream",
          "name": "stdout",
          "text": [
            "Traceback (most recent call last):\n",
            "  File \"/usr/local/lib/python3.7/dist-packages/IPython/core/interactiveshell.py\", line 2882, in run_code\n",
            "    exec(code_obj, self.user_global_ns, self.user_ns)\n",
            "  File \"<ipython-input-60-4127e73d76a0>\", line 16, in <module>\n",
            "    opening_checklists()\n",
            "  File \"<ipython-input-60-4127e73d76a0>\", line 10, in opening_checklists\n",
            "    basic_list = basic_list.pop(step_number)\n",
            "AttributeError: 'str' object has no attribute 'pop'\n",
            "\n",
            "During handling of the above exception, another exception occurred:\n",
            "\n",
            "Traceback (most recent call last):\n",
            "  File \"/usr/local/lib/python3.7/dist-packages/IPython/core/interactiveshell.py\", line 1823, in showtraceback\n",
            "    stb = value._render_traceback_()\n",
            "AttributeError: 'AttributeError' object has no attribute '_render_traceback_'\n",
            "\n",
            "During handling of the above exception, another exception occurred:\n",
            "\n",
            "Traceback (most recent call last):\n",
            "  File \"/usr/local/lib/python3.7/dist-packages/IPython/core/ultratb.py\", line 1132, in get_records\n",
            "    return _fixed_getinnerframes(etb, number_of_lines_of_context, tb_offset)\n",
            "  File \"/usr/local/lib/python3.7/dist-packages/IPython/core/ultratb.py\", line 313, in wrapped\n",
            "    return f(*args, **kwargs)\n",
            "  File \"/usr/local/lib/python3.7/dist-packages/IPython/core/ultratb.py\", line 358, in _fixed_getinnerframes\n",
            "    records = fix_frame_records_filenames(inspect.getinnerframes(etb, context))\n",
            "  File \"/usr/lib/python3.7/inspect.py\", line 1502, in getinnerframes\n",
            "    frameinfo = (tb.tb_frame,) + getframeinfo(tb, context)\n",
            "  File \"/usr/lib/python3.7/inspect.py\", line 1460, in getframeinfo\n",
            "    filename = getsourcefile(frame) or getfile(frame)\n",
            "  File \"/usr/lib/python3.7/inspect.py\", line 696, in getsourcefile\n",
            "    if getattr(getmodule(object, filename), '__loader__', None) is not None:\n",
            "  File \"/usr/lib/python3.7/inspect.py\", line 725, in getmodule\n",
            "    file = getabsfile(object, _filename)\n",
            "  File \"/usr/lib/python3.7/inspect.py\", line 709, in getabsfile\n",
            "    return os.path.normcase(os.path.abspath(_filename))\n",
            "  File \"/usr/lib/python3.7/posixpath.py\", line 383, in abspath\n",
            "    cwd = os.getcwd()\n",
            "OSError: [Errno 107] Transport endpoint is not connected\n"
          ]
        },
        {
          "output_type": "error",
          "ename": "AttributeError",
          "evalue": "ignored",
          "traceback": [
            "\u001b[0;31m---------------------------------------------------------------------------\u001b[0m"
          ]
        }
      ]
    },
    {
      "cell_type": "markdown",
      "source": [
        "---\n",
        "\n",
        "Choose the file from the list of router config checklist files\n",
        "\n",
        "---\n"
      ],
      "metadata": {
        "id": "9BQeXOw-y8WM"
      }
    },
    {
      "cell_type": "code",
      "source": [
        "# code to choose the file from the list\n",
        "import os\n",
        "def write_checklist_to_file(checklist):\n",
        "  filename = input(\"What is the filename that you want for this checklist? \")\n",
        "  with open(f\"/content/gdrive/MyDrive/Checklist/Checklist/{filename}.txt\", \"w\") as file:\n",
        "    for item in checklist:\n",
        "      print(item)\n",
        "      file.writelines(item + \"\\n\")\n",
        "  file.close()\n",
        "\n",
        "write_checklist_to_file([\"item1\", \"item2\", \"item3\",])"
      ],
      "metadata": {
        "id": "Hw7Wr3P-vw5E",
        "colab": {
          "base_uri": "https://localhost:8080/"
        },
        "outputId": "dbe1df9e-14b1-487b-98e3-934a3b11f65a"
      },
      "execution_count": null,
      "outputs": [
        {
          "output_type": "stream",
          "name": "stdout",
          "text": [
            "What is the filename that you want for this checklist? ASUS-RT-AX864U\n",
            "item1\n",
            "item2\n",
            "item3\n"
          ]
        }
      ]
    },
    {
      "cell_type": "markdown",
      "source": [
        "---\n",
        "\n",
        "Show available router checklists for user to choose\n",
        "---\n"
      ],
      "metadata": {
        "id": "eYsb8tCIzNtH"
      }
    },
    {
      "cell_type": "code",
      "execution_count": null,
      "metadata": {
        "id": "cvjMD4-KlXWX"
      },
      "outputs": [],
      "source": [
        "# configuration\n",
        "\n",
        "def start_router_configuration():\n",
        "    router_name = input('Name your router: ')  # or choose from list of routers\n",
        "    print(f'{router_name} - checklist\\nA checklist should be printed here')\n",
        "\n",
        "# save point\n",
        "\n",
        "def save_point():\n",
        "    print('Currently saved routers:\\n1. name 1\\n2. name 2\\n3. name 3')\n",
        "    sp_answer = int(input('Pick a router: '))\n",
        "    # sp = save point\n",
        "    # show_selected_router(sp_answer)\n",
        "\n",
        "# help      \n",
        "def get_help():\n",
        "  command_question_add = 'added'\n",
        "  command_question_remove = 'removed'\n",
        "  command_question_edit = 'edited'\n",
        "  print('-display - displays all current questions \\n-add - how to add a new question\\n-remove - how to remove a question\\n-edit - how to edit a question')\n",
        "  help_answer = input('What command do you want to use? ').lower()\n",
        "  if help_answer == '-display':\n",
        "      print('this will run a function that lists all the current questions')\n",
        "  elif help_answer == '-add':\n",
        "      print(command_question_add)\n",
        "  elif help_answer == '-remove':\n",
        "      print(command_question_remove)\n",
        "  elif help_answer == '-edit':\n",
        "      print(command_question_edit)\n",
        "  else:\n",
        "      print('Invalid response')\n",
        "    \n",
        "\n",
        "\n",
        "def get_router_config():\n",
        "    print('Welcome to the checklist\\n1. Start new router configuration\\n2. Continue from previous save point\\n3. Help')\n",
        "    answer = int(input('Which menu do you want to access? '))\n",
        "\n",
        "    if answer == 1:\n",
        "        start_router_configuration() # function needs to return checklist\n",
        "    elif answer == 2:\n",
        "        save_point() # function needs to return checklist\n",
        "    elif answer == 3:\n",
        "        get_help()\n",
        "    else:\n",
        "        print('Invalid response')\n",
        "\n",
        "    return []  # needs to return checklist"
      ]
    },
    {
      "cell_type": "markdown",
      "source": [
        "Show the checklist screen, process the checklist until all checks have been made"
      ],
      "metadata": {
        "id": "8X7-QTZYlpbd"
      }
    },
    {
      "cell_type": "code",
      "source": [
        "def process_checklist(checklist):\n",
        "  outstanding = checklist\n",
        "\n",
        "  return outstanding"
      ],
      "metadata": {
        "id": "Z8yQBdXGl0TD"
      },
      "execution_count": null,
      "outputs": []
    },
    {
      "cell_type": "markdown",
      "source": [
        "Show the completion status screen and save config if necessary"
      ],
      "metadata": {
        "id": "A7ZD8tH1l056"
      }
    },
    {
      "cell_type": "code",
      "source": [
        "def show_and_save_status(checklist):\n",
        "  print(checklist)\n",
        "# Main Code\n",
        "  if len(checklist) == 0:\n",
        "    print(\"You have completed the checklist, the router has been configured fully. \")\n",
        "\n",
        "    configure_another_router = input(\"Do you want to configure another router? (y/n) \")\n",
        "\n",
        "    if configure_another_router == \"y\":\n",
        "      print(\"Returning to main screen to configure another router... \")\n",
        "    else:\n",
        "      print(\"Returning to main screen...\")\n",
        "\n",
        "  else:\n",
        "    print(\"Your configuration has not been completed yet\")\n",
        "\n",
        "    checklist_save = input(\"Do you want to save your current checklist? (y/n) \")\n",
        "\n",
        "    if checklist_save == \"y\":\n",
        "      checklist_name = input(\"What do you want to name your current checklist save? \")\n",
        "      print(\"Saving\", checklist_name)\n",
        "    else:\n",
        "      confirmation = input(\"Are you sure? (y/n) \")\n",
        "\n",
        "      if confirmation == \"y\":\n",
        "        print(\"Returning to the main screen... \")\n",
        "\n",
        "      elif confirmation == \"n\":\n",
        "        checklist_name = input(\"What do you want to name your current checklist save? \")\n",
        "        print(\"Saving\", checklist_name)\n",
        "        # save file (open /Checklist/Checklists/filename.txt to 'w', then writelines, then close)"
      ],
      "metadata": {
        "id": "LbKc_Rcsl69x"
      },
      "execution_count": null,
      "outputs": []
    },
    {
      "cell_type": "markdown",
      "source": [
        "#Checklist program"
      ],
      "metadata": {
        "id": "prrnbmJimKqX"
      }
    },
    {
      "cell_type": "code",
      "source": [
        "def config_checklist():\n",
        "  while True:\n",
        "    checklist = get_router_config()\n",
        "    outstanding = process_checklist(checklist)\n",
        "    show_and_save_status(outstanding)\n",
        "    again = input(\"Start again? (Y/N)\")\n",
        "    if again.lower() == \"n\":\n",
        "      break\n",
        "\n",
        "# run the program  \n",
        "config_checklist()"
      ],
      "metadata": {
        "id": "dbaKCZhGmNqL"
      },
      "execution_count": null,
      "outputs": []
    }
  ]
}