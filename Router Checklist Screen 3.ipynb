{
  "nbformat": 4,
  "nbformat_minor": 0,
  "metadata": {
    "colab": {
      "name": "Untitled0.ipynb",
      "provenance": [],
      "authorship_tag": "ABX9TyMINtHPQeTXYeVFz4kftG2x",
      "include_colab_link": true
    },
    "kernelspec": {
      "name": "python3",
      "display_name": "Python 3"
    },
    "language_info": {
      "name": "python"
    }
  },
  "cells": [
    {
      "cell_type": "markdown",
      "metadata": {
        "id": "view-in-github",
        "colab_type": "text"
      },
      "source": [
        "<a href=\"https://colab.research.google.com/github/Mega77896/PythonProject/blob/main/Router%20Checklist%20Screen%203.ipynb\" target=\"_parent\"><img src=\"https://colab.research.google.com/assets/colab-badge.svg\" alt=\"Open In Colab\"/></a>"
      ]
    },
    {
      "cell_type": "markdown",
      "source": [
        "Security checklist screen 3."
      ],
      "metadata": {
        "id": "Xk1YDJt3ndjU"
      }
    },
    {
      "cell_type": "code",
      "execution_count": 9,
      "metadata": {
        "colab": {
          "base_uri": "https://localhost:8080/"
        },
        "id": "OZK8rb1gmFdj",
        "outputId": "4983749a-71e5-480c-f1a2-c5ba28e25840"
      },
      "outputs": [
        {
          "output_type": "stream",
          "name": "stdout",
          "text": [
            "['item 1', 'item 2', 'item 3']\n",
            "Your configuration has not been completed yet\n",
            "Do you want to save your current checklist? (y/n)n\n",
            "Are you sure? (y/n) y\n",
            "Returning to the main screen... \n",
            "[]\n",
            "You have completed the checklist, the router has been configured fully. \n",
            "Do you want to configure another router? (y/n)y\n",
            "Returning to main screen to configure another router... \n"
          ]
        }
      ],
      "source": [
        "def show_and_save_status(checklist):\n",
        "  print(checklist)\n",
        "# Main Code\n",
        "  if len(checklist) == 0:\n",
        "    print(\"You have completed the checklist, the router has been configured fully. \")\n",
        "\n",
        "    configure_another_router = input(\"Do you want to configure another router? (y/n)\" )\n",
        "\n",
        "    if configure_another_router == \"y\":\n",
        "      print(\"Returning to main screen to configure another router... \")\n",
        "    else:\n",
        "      print(\"Returning to main screen...\")\n",
        "\n",
        "  else:\n",
        "    print(\"Your configuration has not been completed yet\")\n",
        "\n",
        "    checklist_save = input(\"Do you want to save your current checklist? (y/n)\" )\n",
        "\n",
        "    if checklist_save == \"y\":\n",
        "      print(\"Saving checklist... \")\n",
        "    else:\n",
        "      confirmation = input(\"Are you sure? (y/n) \")\n",
        "\n",
        "      if confirmation == \"y\":\n",
        "        print(\"Returning to the main screen... \")\n",
        "\n",
        "      elif confirmation == \"n\":\n",
        "        print(\"Saving Checklist\")\n",
        "\n",
        "# Full Checklist\n",
        "checklist = [\"item 1\", \"item 2\", \"item 3\"]\n",
        "show_and_save_status(checklist)\n",
        "\n",
        "# Empty Checklist\n",
        "checklist = []\n",
        "show_and_save_status(checklist)"
      ]
    }
  ]
}