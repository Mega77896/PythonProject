{
  "nbformat": 4,
  "nbformat_minor": 0,
  "metadata": {
    "colab": {
      "name": "Copy of Lists and Tuples.ipynb",
      "provenance": [],
      "collapsed_sections": [],
      "include_colab_link": true
    },
    "kernelspec": {
      "name": "python3",
      "display_name": "Python 3"
    },
    "language_info": {
      "name": "python"
    }
  },
  "cells": [
    {
      "cell_type": "markdown",
      "metadata": {
        "id": "view-in-github",
        "colab_type": "text"
      },
      "source": [
        "<a href=\"https://colab.research.google.com/github/Mega77896/PythonProject/blob/main/Copy_of_Lists_and_Tuples.ipynb\" target=\"_parent\"><img src=\"https://colab.research.google.com/assets/colab-badge.svg\" alt=\"Open In Colab\"/></a>"
      ]
    },
    {
      "cell_type": "markdown",
      "metadata": {
        "id": "Z-M-RCWATK71"
      },
      "source": [
        "# Lists and tuples\n",
        "\n",
        "Often we need to store a number of single items of data together so that they can be processed together. This might be because all the data refers to one person (e.g. name, age, gender, etc) OR it might be because we have a set of data (e.g. all the items that should be displayed in a drop down list, such as all the years from this year back to 100 years ago so that someone can select their year of birth)\n",
        "\n",
        "Python has a range of data structures available including:\n",
        "*   lists  \n",
        "*   tuples  \n",
        "*   dictionaries  \n",
        "*   sets\n",
        "\n",
        "This worksheet looks at lists and tuples.\n",
        "\n",
        "## List\n",
        "A list is a set of related, individual data objects, that are indexed and can be processed as a whole, as subsets or as individual items.  Lists are stored, essentially, as contiguous items in memory so that access can be as quick as possible.  However, they are mutable (they can be changed after they are created and stored) and so those mechanisms need to include extra functionality to deal with changing list sizes.\n",
        "\n",
        "## Tuple\n",
        "Essentially the same as a list but it is immutable.  Once it has been created it can't be changed.  It is stored in memory as contiguous items, with the size required being fixed right from the start.  This makes it faster to access.\n",
        "\n",
        "The code below will create two lists and a tuple.\n",
        "*   the first list contains 1000 random numbers between 1 and 100\n",
        "*   the second list is of random length (up to 5000) and each item is one of the 9 characteristics that are protected under the Equality Act in the UK.\n",
        "*   the tuple contains the 9 protected characteristics\n",
        "\n",
        "Before you start the exercises, run the code below.  It will generate the lists and tuple so that you can use them in the exercises.  If you need to recreate the lists again (because you have changed them and need to work on the originals, just run this cell again).\n",
        "\n",
        "***Note:***  *a list variable contains a reference to the start of the list in memory, rather than storing the list itself.  This means that if you assign the list to another variable (to make a copy), it will only copy across the reference.  If you change the copy, you change the original list.*\n",
        "\n",
        "*If you need to make a copy of the list you will need to use a loop to create a new list and copy all items across.*"
      ]
    },
    {
      "cell_type": "code",
      "metadata": {
        "id": "BDRckXeQXFMT"
      },
      "source": [
        "from random import randint, choice\n",
        "\n",
        "def get_num_list():\n",
        "  num_list = [randint(1,100) for n in range(1000)]\n",
        "  return num_list\n",
        "\n",
        "def get_protected_characteristics():\n",
        "  characteristics_tuple = ('age','disability','gender reassignment','marriage and civil partnership','pregnancy and maternity','race','religion or belief','sex','sexual orientation')\n",
        "  return characteristics_tuple\n",
        "\n",
        "def get_protected_characteristic_list(protected_characteristics):\n",
        "  char_list = [choice(protected_characteristics) for ch in range(randint(1,5000))]\n",
        "  return char_list\n",
        "\n",
        "nums = get_num_list()\n",
        "protected_characteristics = get_protected_characteristics()\n",
        "characteristics = get_protected_characteristic_list(protected_characteristics)"
      ],
      "execution_count": 1,
      "outputs": []
    },
    {
      "cell_type": "markdown",
      "metadata": {
        "id": "xXT38-4ZV45n"
      },
      "source": [
        "## The exercises below will use the lists:  \n",
        "*   **nums** (a list of between 1 and 1000 random numbers, each number is between 0 and 1000)\n",
        "*   **characteristics** (a list of 5000 random protected_characteristics)\n",
        "\n",
        "and the tuple:\n",
        "*  **protected_characteristics** (a set of the 9 protected characteristics identified in the Equality Act)\n",
        "\n",
        "## You can run the cell above any number of times to generate new lists."
      ]
    },
    {
      "cell_type": "markdown",
      "metadata": {
        "id": "Ft0dXl7fUuaK"
      },
      "source": [
        "---\n",
        "### Exercise 1 - list head, tail and shape\n",
        "\n",
        "Write a function, **describe_list()** which will:\n",
        "*  print the length of the list `nums`\n",
        "*  print the first 10 items in `nums`  \n",
        "*  print the last 5 items in `nums`"
      ]
    },
    {
      "cell_type": "code",
      "metadata": {
        "id": "jUcZD7mmTJdA",
        "outputId": "266fc189-17ea-42b7-9f75-ff515622d644",
        "colab": {
          "base_uri": "https://localhost:8080/"
        }
      },
      "source": [
        "def describe_list():\n",
        "  nums = [\"1\",\"2\",\"3\",\"4\",\"5\",\"6\",\"7\",\"8\",\"9\",\"10\",\"11\",\"12\",\"13\",\"14\",\"15\"]\n",
        "  first_item = nums[0]\n",
        "  first_10_items = nums[:10]\n",
        "  last_5_items = nums[5:10]\n",
        "  print (len(nums))\n",
        "  print(first_10_items)\n",
        "  print(last_5_items)\n",
        "  print(first_item)\n",
        "describe_list()"
      ],
      "execution_count": null,
      "outputs": [
        {
          "output_type": "stream",
          "name": "stdout",
          "text": [
            "15\n",
            "['1', '2', '3', '4', '5', '6', '7', '8', '9', '10']\n",
            "['6', '7', '8', '9', '10']\n",
            "1\n"
          ]
        }
      ]
    },
    {
      "cell_type": "markdown",
      "metadata": {
        "id": "yNWg08k6bXv0"
      },
      "source": [
        "---\n",
        "### Exercise 2 - show tuple items\n",
        "\n",
        "Write a function which will:\n",
        "*   use a loop to print the list of protected characteristics from the `protected_characteristics` tuple.\n"
      ]
    },
    {
      "cell_type": "code",
      "metadata": {
        "id": "P2HnCG9pb1BS"
      },
      "source": [
        "def protected_characteristics():\n",
        "  for i in (characteristics):\n",
        "    print(i)\n",
        "\n",
        "protected_characteristics()"
      ],
      "execution_count": null,
      "outputs": []
    },
    {
      "cell_type": "markdown",
      "metadata": {
        "id": "RTSuQZs4b1JU"
      },
      "source": [
        "---\n",
        "### Exercise 3 - list a random subset\n",
        "\n",
        "Write a function which will:\n",
        "*  calculate the position of the middle item in the `characteristics` list   \n",
        "(*Hint: use len() to help with this*)\n",
        "*  calculate the position of the item that is 5 places before the middle item\n",
        "*  calculate the position of the item that is 5 places after the middle item\n",
        "*  print the part of the list that includes the items from 5 places before to 5 places after.  \n",
        "\n",
        "Expected output:  \n",
        "Your list will include 11 items."
      ]
    },
    {
      "cell_type": "code",
      "metadata": {
        "id": "OwhFnH2kdC11",
        "outputId": "ef6208eb-94ec-4fba-cf47-b57b891c27a7",
        "colab": {
          "base_uri": "https://localhost:8080/"
        }
      },
      "source": [
        "def function1():\n",
        "  middle = (len(characteristics) // 2)\n",
        "  five_before = (len(characteristics) // 2 - 5)\n",
        "  five_after = (len(characteristics) // 2 + 5)\n",
        "  five_places_before_and_after = characteristics[five_before:five_after + 1]\n",
        "  print(five_places_before_and_after)\n",
        "function1()"
      ],
      "execution_count": null,
      "outputs": [
        {
          "output_type": "stream",
          "name": "stdout",
          "text": [
            "['religion or belief', 'race', 'sex', 'pregnancy and maternity', 'pregnancy and maternity', 'marriage and civil partnership', 'marriage and civil partnership', 'pregnancy and maternity', 'religion or belief', 'gender reassignment', 'disability']\n"
          ]
        }
      ]
    },
    {
      "cell_type": "markdown",
      "metadata": {
        "id": "KS0x3oFNePI9"
      },
      "source": [
        "---\n",
        "### Exercise 4 - create a copy\n",
        "\n",
        "Write a function which will: use a for loop to create a copy of the `nums` list:\n",
        "\n",
        "*   create a new, empty, list called **new_nums**  (*Hint: an empty list is [ ]*)\n",
        "*   use a for loop which uses the following syntax:  `for num in nums:`\n",
        "*   each time round the loop append `num` to `new_nums`  ( *`new_nums.append(num)`*)\n",
        "*   print the first 10 items of `new_nums`\n",
        "*   print the first 10 items of `nums`\n",
        "*   print the length of both lists"
      ]
    },
    {
      "cell_type": "code",
      "metadata": {
        "id": "mpK1Ip3we-uC",
        "colab": {
          "base_uri": "https://localhost:8080/"
        },
        "outputId": "5015cb1c-508f-447e-a8a6-76d245f2d516"
      },
      "source": [
        "def nums_list_copy():\n",
        "  new_nums = []\n",
        "  for num in nums:\n",
        "    (new_nums.append(num))\n",
        "\n",
        "\n",
        "  first_ten_items = new_nums[:10]\n",
        "  second_ten_items = nums[:10]\n",
        "  \n",
        "  print(first_ten_items)\n",
        "  print(second_ten_items)\n",
        "  print(len(nums))\n",
        "  print(len(new_nums))\n",
        "\n",
        "\n",
        "nums_list_copy()"
      ],
      "execution_count": 15,
      "outputs": [
        {
          "output_type": "stream",
          "name": "stdout",
          "text": [
            "[69, 47, 83, 47, 52, 10, 27, 54, 32, 77]\n",
            "[69, 47, 83, 47, 52, 10, 27, 54, 32, 77]\n",
            "1000\n",
            "1000\n"
          ]
        }
      ]
    },
    {
      "cell_type": "markdown",
      "metadata": {
        "id": "deUIFWjRe-3G"
      },
      "source": [
        "\n",
        "\n",
        "```\n",
        "# This is formatted as code\n",
        "```\n",
        "\n",
        "---\n",
        "### Exercise 5 - count the occurrence of age in characteristics\n",
        "\n",
        "Write a function which will use the list method:\n",
        "\n",
        "`list_name.count(item)`\n",
        "\n",
        "to count the number of occurrences of 'age' in the `characteristics` list.  Print the result."
      ]
    },
    {
      "cell_type": "code",
      "metadata": {
        "id": "b9TrHQ9hfoIU",
        "colab": {
          "base_uri": "https://localhost:8080/"
        },
        "outputId": "c9dd8205-7f9a-4c2f-bb34-d45184955739"
      },
      "source": [
        "def count_age_characteristics():\n",
        "  list_name = characteristics\n",
        "  age = \"age\"\n",
        "  sex = \"sex\"\n",
        "  pregnancy = \"pregnancy and maternity\"\n",
        "\n",
        "\n",
        "  print(list_name.count(age))\n",
        "  print(list_name.count(sex))\n",
        "  print(list_name.count(pregnancy))\n",
        "  \n",
        "count_age_characteristics()"
      ],
      "execution_count": 30,
      "outputs": [
        {
          "output_type": "stream",
          "name": "stdout",
          "text": [
            "133\n",
            "141\n",
            "137\n"
          ]
        }
      ]
    },
    {
      "cell_type": "markdown",
      "metadata": {
        "id": "zm2VI5RmfoSy"
      },
      "source": [
        "---\n",
        "### Exercise 6 - sort the nums list\n",
        "\n",
        "Write a function which will:\n",
        "*   call the function `get_num_list()` and store the result in a new list called **sort_nums**\n",
        "*   print the first, and last, 20 items in the `sort_nums` list\n",
        "*   use the `list_name.sort()` method to sort the `sort_nums` list into ascending order\n",
        "*   print the first, and last, 20 items again  \n",
        "*   use the `list_name.sort()` method again to sort the `sort_nums` list into descending order\n",
        "*   print the first, and last, 20 items again"
      ]
    },
    {
      "cell_type": "code",
      "metadata": {
        "id": "Fksgpj9JgWDs",
        "colab": {
          "base_uri": "https://localhost:8080/"
        },
        "outputId": "16dbcdfa-ef95-459f-b8c8-1c156cbc8b6c"
      },
      "source": [
        "def sort_nums_list():\n",
        "  sort_nums = get_num_list()\n",
        "  sort_nums.sort() \n",
        "  first_twenty = sort_nums[:20]\n",
        "  last_twenty = sort_nums[-20:]\n",
        "  \n",
        "  print(first_twenty)\n",
        "  print(last_twenty)\n",
        "\n",
        "  sort_nums.sort(reverse = True)\n",
        "\n",
        "  rfirst_twenty = sort_nums[:20]\n",
        "  rlast_twenty = sort_nums[-20:]\n",
        "\n",
        "  print(rfirst_twenty)\n",
        "  print(rlast_twenty)\n",
        "\n",
        "sort_nums_list()"
      ],
      "execution_count": 47,
      "outputs": [
        {
          "output_type": "stream",
          "name": "stdout",
          "text": [
            "[1, 1, 1, 1, 1, 1, 1, 1, 1, 1, 2, 2, 2, 2, 2, 2, 2, 2, 2, 2]\n",
            "[99, 99, 99, 99, 99, 99, 100, 100, 100, 100, 100, 100, 100, 100, 100, 100, 100, 100, 100, 100]\n",
            "[100, 100, 100, 100, 100, 100, 100, 100, 100, 100, 100, 100, 100, 100, 99, 99, 99, 99, 99, 99]\n",
            "[2, 2, 2, 2, 2, 2, 2, 2, 2, 2, 1, 1, 1, 1, 1, 1, 1, 1, 1, 1]\n"
          ]
        }
      ]
    },
    {
      "cell_type": "markdown",
      "metadata": {
        "id": "_OF-Xuj1UrW0"
      },
      "source": [
        "---\n",
        "### Exercise 7 - get statistics (max(), min(), sum() )\n",
        "\n",
        "Write a function which will:\n",
        "*   print the maximum and minimum numbers in the `nums` list  \n",
        "*   print the sum of the `nums` list\n",
        "*   calculate and print the average of the `nums` list (using `len()` to help)"
      ]
    },
    {
      "cell_type": "code",
      "metadata": {
        "id": "9YmYMenZVGod",
        "colab": {
          "base_uri": "https://localhost:8080/"
        },
        "outputId": "70e0a348-e0d4-461a-9292-1e44b8759dd6"
      },
      "source": [
        "def get_max_min_sum():\n",
        "  print(\"The largest number in the list is\", max(nums))\n",
        "  print(\"The smallest number in the list is\", min(nums))\n",
        "  print(\"The product of the list is\", sum(nums))\n",
        "  print(\"The length of the list is\", len(nums))\n",
        "  print(\"The average number of the list is\", sum(nums) / 1000)\n",
        "\n",
        "\n",
        "get_max_min_sum()"
      ],
      "execution_count": 57,
      "outputs": [
        {
          "output_type": "stream",
          "name": "stdout",
          "text": [
            "The largest number in the list is 100\n",
            "The smallest number in the list is 1\n",
            "The product of the list is 52295\n",
            "The length of the list is 1000\n",
            "The average number of the list is 52.295\n"
          ]
        }
      ]
    },
    {
      "cell_type": "markdown",
      "metadata": {
        "id": "Mn4tHQ_KVbHa"
      },
      "source": [
        "---\n",
        "### Exercise 8 - percentage difference\n",
        "\n",
        "Write a function which will:\n",
        "*   generate a new list called **ex8_nums** using `get_num_list()`\n",
        "*   calculate and print the percentage difference between the first number in each list (as a percentage of the number in the nums list) (Hint:  find the difference between the two numbers, divide the difference by the number in `nums` and multiply by 100)\n",
        "*   calculate and print the percentage difference between the last numbers in each list in the same way\n",
        "*   calculate and print the percentage difference between the middle numbers in each list in the same way.\n",
        "*   calculate and print the percentage difference between the sums of each list in the same way"
      ]
    },
    {
      "cell_type": "code",
      "metadata": {
        "id": "nJCQjZIeZL0e",
        "colab": {
          "base_uri": "https://localhost:8080/"
        },
        "outputId": "e256201f-7785-4a60-d9b1-9ee754277e53"
      },
      "source": [
        "def percentage_difference():\n",
        "  ex8_nums = get_num_list()\n",
        "\n",
        "  # first numbers in the list\n",
        "  first_number = ex8_nums[0]\n",
        "  second_first_number = nums[0]\n",
        "  difference = first_number - second_first_number\n",
        "  percentage_change = difference / second_first_number * 100\n",
        "  \n",
        "  # first numbers print\n",
        "  print(first_number)\n",
        "  print(second_first_number)\n",
        "  print(difference)\n",
        "  print(percentage_change, \"\\n\")\n",
        "\n",
        "\n",
        "  # middle numbers in the list\n",
        "  fmiddle_number = ex8_nums[500]\n",
        "  smiddle_number = nums[500]\n",
        "  middle_difference = fmiddle_number - smiddle_number\n",
        "  middle_percentage_change = middle_difference / smiddle_number * 100\n",
        "\n",
        "  # middle numbers print\n",
        "  print(fmiddle_number)\n",
        "  print(smiddle_number)\n",
        "  print(middle_difference)\n",
        "  print(middle_percentage_change, \"\\n\")  \n",
        " \n",
        "\n",
        "  # last numbers in the list\n",
        "  flast_number = ex8_nums[-1]\n",
        "  slast_number = nums[-1]\n",
        "  last_difference = flast_number - slast_number\n",
        "  last_percentage_change = last_difference / slast_number * 100\n",
        "\n",
        "\n",
        "  # last numbers print\n",
        "  print(flast_number)\n",
        "  print(slast_number)\n",
        "  print(last_difference)\n",
        "  print(last_percentage_change, \"\\n\")\n",
        "\n",
        "  # sum of each list numbers\n",
        "  fsum = sum(ex8_nums)\n",
        "  ssum = sum(nums)\n",
        "  sum_difference = fsum - ssum\n",
        "  sum_percentage_change = sum_difference / ssum * 100\n",
        "\n",
        "  # sum numbers print\n",
        "  print(fsum)\n",
        "  print(ssum)\n",
        "  print(sum_difference)\n",
        "  print(sum_percentage_change, \"\\n\")\n",
        "\n",
        "\n",
        "  print(len(ex8_nums))\n",
        "  print(len(nums))\n",
        "\n",
        "percentage_difference()"
      ],
      "execution_count": 39,
      "outputs": [
        {
          "output_type": "stream",
          "name": "stdout",
          "text": [
            "65\n",
            "61\n",
            "4\n",
            "6.557377049180328 \n",
            "\n",
            "7\n",
            "60\n",
            "-53\n",
            "-88.33333333333333 \n",
            "\n",
            "25\n",
            "11\n",
            "14\n",
            "127.27272727272727 \n",
            "\n",
            "51542\n",
            "50571\n",
            "971\n",
            "1.9200727689782684 \n",
            "\n",
            "1000\n",
            "1000\n"
          ]
        }
      ]
    },
    {
      "cell_type": "markdown",
      "metadata": {
        "id": "HNs3lZmYawFO"
      },
      "source": [
        "---\n",
        "### Exercise 9 - characteristic counts\n",
        "\n",
        "Write a function which will:\n",
        "*  iterate through the `protected_characteristics` tuple and for each **characteristic**:\n",
        "*   *   count the number of occurrences of that `characteristic` in the `characteristics` list\n",
        "*   *   print the `protected_characteristic` and the **count**  \n",
        "\n",
        "Example expected output:\n",
        "\n",
        "age 100  \n",
        "disability 120  \n",
        "gender reassignment 120  \n",
        "marriage and civil partnership 111  \n",
        "pregnancy and maternity 103  \n",
        "race 106  \n",
        "religion or belief 95  \n",
        "sex 110  \n",
        "sexual orientation 113  \n",
        "\n",
        "Extra learning:  you can read [here](https://thispointer.com/python-how-to-pad-strings-with-zero-space-or-some-other-character/) how to justify the printed characteristic so that the output is organised into two columns as shown below:  \n",
        "![tabulated output](https://drive.google.com/uc?id=1CCXfX6K5ZeDefnq7vUsqxCDmqvcfY8Mz)\n",
        "\n",
        "\n",
        "\n"
      ]
    },
    {
      "cell_type": "code",
      "metadata": {
        "id": "GURT11albqUs",
        "colab": {
          "base_uri": "https://localhost:8080/"
        },
        "outputId": "a5d88048-b9b0-4ece-a611-213e8fb249d2"
      },
      "source": [
        "def characteristic_counts():\n",
        "  for i in characteristics:\n",
        "    age = \"age\"\n",
        "    disability = \"disability\"\n",
        "    gender_reassignment =\"gender reassignment\"\n",
        "    marriage = \"marriage and civil partnership\"\n",
        "    pregnancy = \"pregnancy and maternity\"\n",
        "    race = \"race\"\n",
        "    religion = \"religion or belief\"\n",
        "    sex = \"sex\"\n",
        "    SO = \"sexual orientation\"\n",
        "\n",
        "  print(\"age\",characteristics.count(age))\n",
        "  print(\"disability\",characteristics.count(disability))\n",
        "  print(\"gender reassignment\",characteristics.count(gender_reassignment))\n",
        "  print(\"marriage and civil partnership\", characteristics.count(marriage))\n",
        "  print(\"pregnancy and maternity\", characteristics.count(pregnancy))\n",
        "  print(\"race\", characteristics.count(race))\n",
        "  print(\"religion or belief\", characteristics.count(religion))\n",
        "  print(\"sex\", characteristics.count(sex))\n",
        "  print(\"sexual orientation\", characteristics.count(SO))\n",
        "\n",
        "characteristic_counts()"
      ],
      "execution_count": 51,
      "outputs": [
        {
          "output_type": "stream",
          "name": "stdout",
          "text": [
            "age 559\n",
            "disability 506\n",
            "gender reassignment 512\n",
            "marriage and civil partnership 554\n",
            "pregnancy and maternity 560\n",
            "race 550\n",
            "religion or belief 527\n",
            "sex 520\n",
            "sexual orientation 530\n"
          ]
        }
      ]
    },
    {
      "cell_type": "markdown",
      "metadata": {
        "id": "9Po7yQj-ds38"
      },
      "source": [
        "---\n",
        "### Exercise 10 - characteristics statistics\n",
        "\n",
        "Assuming that the `characteristics` list may have been taken from a study of cases that have been taken to court in relation to the Equality Act.  \n",
        "\n",
        "Write a function which will:\n",
        "\n",
        "*   find the most common characteristic resulting in court action, from this population\n",
        "*   print this in a message, e.g. The characteristic with the highest number of court cases is:  *characteristic*\n",
        "*   print the list of `protected_characteristics`, on one line if possible - see [here](https://www.geeksforgeeks.org/g-fact-25-print-single-multiple-variable-python/)\n",
        "*   ask the user to enter a characteristic that they would like to see statistics on and use a while loop to continue until the user has entered a valid characteristic\n",
        "*   print the characteristic, its frequency and the percentage that this frequency is of the whole population."
      ]
    },
    {
      "cell_type": "code",
      "metadata": {
        "id": "uk_I5z7UgbDs"
      },
      "source": [
        ""
      ],
      "execution_count": null,
      "outputs": []
    }
  ]
}